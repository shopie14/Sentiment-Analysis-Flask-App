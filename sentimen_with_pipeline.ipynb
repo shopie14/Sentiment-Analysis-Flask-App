{
  "cells": [
    {
      "cell_type": "markdown",
      "metadata": {
        "id": "VYXKXipVSN1a"
      },
      "source": [
        "Nama : Shopi Nurhidayanti\n",
        "---\n",
        "Institut Teknologi Garut\n",
        "---\n",
        "Teknik Informatika // Project Akhir Information Retrieval\n",
        "---\n",
        "\n",
        "\n",
        "\n"
      ]
    },
    {
      "cell_type": "markdown",
      "metadata": {
        "id": "dl6pUN7zSQyx"
      },
      "source": [
        "# Import dataset"
      ]
    },
    {
      "cell_type": "markdown",
      "metadata": {
        "id": "JHRur2BXUvrz"
      },
      "source": [
        "link dataset yang digunakan : https://github.com/ridife/dataset-idsa - dataset hasil crawling yang mencakup keseluruhan"
      ]
    },
    {
      "cell_type": "code",
      "execution_count": 23,
      "metadata": {
        "colab": {
          "base_uri": "https://localhost:8080/",
          "height": 1000
        },
        "id": "MQG6busz7K14",
        "outputId": "1f5af4ed-52c9-4238-be8a-22fcd35412a6"
      },
      "outputs": [
        {
          "data": {
            "text/html": [
              "\n",
              "     <input type=\"file\" id=\"files-081762e3-6396-4486-bc98-8bacd31566e1\" name=\"files[]\" multiple disabled\n",
              "        style=\"border:none\" />\n",
              "     <output id=\"result-081762e3-6396-4486-bc98-8bacd31566e1\">\n",
              "      Upload widget is only available when the cell has been executed in the\n",
              "      current browser session. Please rerun this cell to enable.\n",
              "      </output>\n",
              "      <script>// Copyright 2017 Google LLC\n",
              "//\n",
              "// Licensed under the Apache License, Version 2.0 (the \"License\");\n",
              "// you may not use this file except in compliance with the License.\n",
              "// You may obtain a copy of the License at\n",
              "//\n",
              "//      http://www.apache.org/licenses/LICENSE-2.0\n",
              "//\n",
              "// Unless required by applicable law or agreed to in writing, software\n",
              "// distributed under the License is distributed on an \"AS IS\" BASIS,\n",
              "// WITHOUT WARRANTIES OR CONDITIONS OF ANY KIND, either express or implied.\n",
              "// See the License for the specific language governing permissions and\n",
              "// limitations under the License.\n",
              "\n",
              "/**\n",
              " * @fileoverview Helpers for google.colab Python module.\n",
              " */\n",
              "(function(scope) {\n",
              "function span(text, styleAttributes = {}) {\n",
              "  const element = document.createElement('span');\n",
              "  element.textContent = text;\n",
              "  for (const key of Object.keys(styleAttributes)) {\n",
              "    element.style[key] = styleAttributes[key];\n",
              "  }\n",
              "  return element;\n",
              "}\n",
              "\n",
              "// Max number of bytes which will be uploaded at a time.\n",
              "const MAX_PAYLOAD_SIZE = 100 * 1024;\n",
              "\n",
              "function _uploadFiles(inputId, outputId) {\n",
              "  const steps = uploadFilesStep(inputId, outputId);\n",
              "  const outputElement = document.getElementById(outputId);\n",
              "  // Cache steps on the outputElement to make it available for the next call\n",
              "  // to uploadFilesContinue from Python.\n",
              "  outputElement.steps = steps;\n",
              "\n",
              "  return _uploadFilesContinue(outputId);\n",
              "}\n",
              "\n",
              "// This is roughly an async generator (not supported in the browser yet),\n",
              "// where there are multiple asynchronous steps and the Python side is going\n",
              "// to poll for completion of each step.\n",
              "// This uses a Promise to block the python side on completion of each step,\n",
              "// then passes the result of the previous step as the input to the next step.\n",
              "function _uploadFilesContinue(outputId) {\n",
              "  const outputElement = document.getElementById(outputId);\n",
              "  const steps = outputElement.steps;\n",
              "\n",
              "  const next = steps.next(outputElement.lastPromiseValue);\n",
              "  return Promise.resolve(next.value.promise).then((value) => {\n",
              "    // Cache the last promise value to make it available to the next\n",
              "    // step of the generator.\n",
              "    outputElement.lastPromiseValue = value;\n",
              "    return next.value.response;\n",
              "  });\n",
              "}\n",
              "\n",
              "/**\n",
              " * Generator function which is called between each async step of the upload\n",
              " * process.\n",
              " * @param {string} inputId Element ID of the input file picker element.\n",
              " * @param {string} outputId Element ID of the output display.\n",
              " * @return {!Iterable<!Object>} Iterable of next steps.\n",
              " */\n",
              "function* uploadFilesStep(inputId, outputId) {\n",
              "  const inputElement = document.getElementById(inputId);\n",
              "  inputElement.disabled = false;\n",
              "\n",
              "  const outputElement = document.getElementById(outputId);\n",
              "  outputElement.innerHTML = '';\n",
              "\n",
              "  const pickedPromise = new Promise((resolve) => {\n",
              "    inputElement.addEventListener('change', (e) => {\n",
              "      resolve(e.target.files);\n",
              "    });\n",
              "  });\n",
              "\n",
              "  const cancel = document.createElement('button');\n",
              "  inputElement.parentElement.appendChild(cancel);\n",
              "  cancel.textContent = 'Cancel upload';\n",
              "  const cancelPromise = new Promise((resolve) => {\n",
              "    cancel.onclick = () => {\n",
              "      resolve(null);\n",
              "    };\n",
              "  });\n",
              "\n",
              "  // Wait for the user to pick the files.\n",
              "  const files = yield {\n",
              "    promise: Promise.race([pickedPromise, cancelPromise]),\n",
              "    response: {\n",
              "      action: 'starting',\n",
              "    }\n",
              "  };\n",
              "\n",
              "  cancel.remove();\n",
              "\n",
              "  // Disable the input element since further picks are not allowed.\n",
              "  inputElement.disabled = true;\n",
              "\n",
              "  if (!files) {\n",
              "    return {\n",
              "      response: {\n",
              "        action: 'complete',\n",
              "      }\n",
              "    };\n",
              "  }\n",
              "\n",
              "  for (const file of files) {\n",
              "    const li = document.createElement('li');\n",
              "    li.append(span(file.name, {fontWeight: 'bold'}));\n",
              "    li.append(span(\n",
              "        `(${file.type || 'n/a'}) - ${file.size} bytes, ` +\n",
              "        `last modified: ${\n",
              "            file.lastModifiedDate ? file.lastModifiedDate.toLocaleDateString() :\n",
              "                                    'n/a'} - `));\n",
              "    const percent = span('0% done');\n",
              "    li.appendChild(percent);\n",
              "\n",
              "    outputElement.appendChild(li);\n",
              "\n",
              "    const fileDataPromise = new Promise((resolve) => {\n",
              "      const reader = new FileReader();\n",
              "      reader.onload = (e) => {\n",
              "        resolve(e.target.result);\n",
              "      };\n",
              "      reader.readAsArrayBuffer(file);\n",
              "    });\n",
              "    // Wait for the data to be ready.\n",
              "    let fileData = yield {\n",
              "      promise: fileDataPromise,\n",
              "      response: {\n",
              "        action: 'continue',\n",
              "      }\n",
              "    };\n",
              "\n",
              "    // Use a chunked sending to avoid message size limits. See b/62115660.\n",
              "    let position = 0;\n",
              "    do {\n",
              "      const length = Math.min(fileData.byteLength - position, MAX_PAYLOAD_SIZE);\n",
              "      const chunk = new Uint8Array(fileData, position, length);\n",
              "      position += length;\n",
              "\n",
              "      const base64 = btoa(String.fromCharCode.apply(null, chunk));\n",
              "      yield {\n",
              "        response: {\n",
              "          action: 'append',\n",
              "          file: file.name,\n",
              "          data: base64,\n",
              "        },\n",
              "      };\n",
              "\n",
              "      let percentDone = fileData.byteLength === 0 ?\n",
              "          100 :\n",
              "          Math.round((position / fileData.byteLength) * 100);\n",
              "      percent.textContent = `${percentDone}% done`;\n",
              "\n",
              "    } while (position < fileData.byteLength);\n",
              "  }\n",
              "\n",
              "  // All done.\n",
              "  yield {\n",
              "    response: {\n",
              "      action: 'complete',\n",
              "    }\n",
              "  };\n",
              "}\n",
              "\n",
              "scope.google = scope.google || {};\n",
              "scope.google.colab = scope.google.colab || {};\n",
              "scope.google.colab._files = {\n",
              "  _uploadFiles,\n",
              "  _uploadFilesContinue,\n",
              "};\n",
              "})(self);\n",
              "</script> "
            ],
            "text/plain": [
              "<IPython.core.display.HTML object>"
            ]
          },
          "metadata": {},
          "output_type": "display_data"
        },
        {
          "name": "stdout",
          "output_type": "stream",
          "text": [
            "Saving dataset_tweet_sentiment_opini_film.csv to dataset_tweet_sentiment_opini_film.csv\n"
          ]
        },
        {
          "data": {
            "text/plain": [
              "{'dataset_tweet_sentiment_opini_film.csv': b'\\xef\\xbb\\xbfId,Sentiment,Text Tweet\\r\\n1,negative,Jelek filmnya... apalagi si ernest gak mutu bgt actingnya... film sampah\\r\\n2,negative,Film king Arthur ini film paling jelek dari seluruh cerita King Arthur \\r\\n3,negative,@beexkuanlin Sepanjang film gwa berkata kasar terus pada bapaknya\\r\\n4,negative,Ane ga suka fast and furious..menurutku kok jelek ya tu film\\r\\n5,negative,\"@baekhyun36 kan gua ga tau film nya, lu bilang perang perangan/? Perang\"\"an disebut ama rp yaoi jadi ambigu :v\"\\r\\n6,negative,tolong editingnya yg bagus ya. Saya sering kecewa dgn film indonesia. Ditunggu filmnya!!\\r\\n7,negative,\"Kecewa dgn salah satu aktornya yg ternyata pendukung penista agama. Ah, saya harus bersabar utk tak menonton film ini.\"\\r\\n8,negative,Kecewa parah sama film the guys. Dear @radityadika sorry to say this.\\r\\n9,negative,Banyak yg kecewa abis nonton film ini :(\\r\\n10,negative,#TheMummy 2017 adalah film yang paling memgecewakan saya selama hidup. Yah padahal sy udh berekspektasi tinggi dan suka bgt mesir kuno.\\r\\n11,negative,\"film jelek, jelas. Ga ada isinya. \"\\r\\n12,negative,awal bulan ini nonton dua film Indonesia di bioskop: kartini dan critical eleven. penggambaran kartini dan ale juga anya terlalu lemah. :( \\r\\n13,negative,\"Nonton film #Kartini miris , ternyata di jaman itu dan jaman sekarang bangsa kita tetap bodoh, Serakah, Gila kawin .. IRONIS !! #CelotehPagi\"\\r\\n14,negative,\"Btw Danur jelek banget, gausah ditonton Hans @hansdavidian gue kebayang lo bakal #meantweets soal film ini ntar! Lol\"\\r\\n15,negative,\"Film Kartini trlalu singkat, sehingga penonton yg mungkin blm baca biografi jelas ttg Kartini agak bingung. Saya sndiri emg blm baca bukuny.\"\\r\\n16,negative,\"Habis nonton the guys, entah kenapa aku sedikit kecewa nonton film ini.. Dibanding film sebelumnya kok ini anjlok ya\"\\r\\n17,negative,Yang udah nonton film Alien kok pada kecewa ya. Jadi ragu buat nonton.\\r\\n18,negative,satu-satunya kerugian nonton film action itu.. aktornya jadi keliatan jelek :p\\r\\n19,negative,Ini film yang bilang bagus...Kelompoknya doang. Yang kasih penghargaan juga dia2 aj. waktu nonton ternyata jelek.\\r\\n20,negative,\"baik, kita sudahi saja. hidup terlalu singkat untuk dihabisken dengan menonton film jelek.\"\\r\\n21,negative,\"Film King Arthur itu tidak jelek namun juga tidak bagus. Biasa saja, cenderung mudah dilupakan.\"\\r\\n22,negative,\"Jelek ah jelek Pantas film Dimension tidak pernah dirilis, akting kamu begini ternyata /ga \"\\r\\n23,negative,duh ini film ribet banget ...\\r\\n24,negative,\"Dgn durasi film yg tll panjang, alur yg datar, akhirnya stlh #CriticalEleven selesai sy keluar dgn pertanyaan: ini masalahnya apa sih?\"\\r\\n25,negative,\"Banyak adegan penting yang di potong, jadinya merusak film itu sendiri \"\\r\\n26,negative,\"baru selesai nonton film GOAL 3, ternyata penurunan kualitas film nya drastis parah.\"\\r\\n27,negative,Baru keingat film yang cukup beda dengan buku sampai bikin kecewa teman yang ngajak nonton: Black Bulter\\r\\n28,negative,ogah nonton lagi saya. Kecewa ama itu film \\r\\n29,negative,\"Kecewa berat sama film Power Rangers, dibawah ekspektasi banget \"\\r\\n30,negative,Bahas soal film yang diangkat dari novel rasanya kalo di bikin film kurang puas aja gitu\\r\\n31,negative,\"Sebenernya nggak ada yang salah sama akting Prilly di film Danur menurut aku oke oke aja. Yang kurang greget itu ceritanya sih, kurang kuat.\"\\r\\n32,negative,\"Tadi abis nonton film balap2 mobil itu,tertidur sekitar 15 menit. Entah lelah entah bosan.\"\\r\\n33,negative,The mummy film yg terasa mulai aneh sejak pertengahan filmnya #mummy\\r\\n34,negative,\"Memang malah kelihatan aneh kalau ada film besutan Marvel yang ga ada post-credit scene nya,kaya film yg habis saya tonton,#Logan.\"\\r\\n35,negative,Film norak!!!! \\r\\n36,negative,adanya film critical eleven ini jadi merusak image Ale Anya di kepalaku :(\\r\\n37,negative,\"#FactRica ~ kurang suka sama film-film romantis, karena endingnya pasti jadian\"\\r\\n38,negative,Dibalik novel yang diangkat jadi film. Terus jadinya kurang. Sesungguhny ada campur tangan produser yang sok tau dengan embel2 lebih menjual\\r\\n39,negative,karena ga respect kelakuan si dian sastro ...film itu jadi hambar.... ga bermutu...!!! \\r\\n40,negative,sebnarnya ini film lumyan bgus..sayangnya aktor n aktrisnya dari rusia jadi filmnya trsa hambar\\r\\n41,negative,Kalo Nolan bikin film gak ada perempuan seksi* dan bumbu percintaan selalu hambar.\\r\\n42,negative,\"1. Insidious (2010) Meski creepy dan bagian awalnya bikin tegang, bagian akhir film ini justru terasa agak datar. Hal tersebut berpengaruh+\"\\r\\n43,negative,Ini gue nonton film homo aja rumit bener\\r\\n44,negative,Sayang banget ketika ada film lokal yang bagus tapi budgetnya kurang jadi layar yang bisa di tonton jadi terbatas banget. sayang banget\\r\\n45,negative,Film macam apa ini? Nonton nya bikin gue menderita -_-\\r\\n46,negative,jadi gue nonton The Mummy ini karena seseorang bilang film nya bagus. tapi kemudian setelah keluar dari bioskop merasa menyesal...\\r\\n47,negative,\"Semalam nonton film ini, paginya ane download, malem langsung nonton.. ane smpai begadang.. hasilnya? Ane Kecewa... http://fb.me/13sZi5lbC \"\\r\\n48,negative,\"Aku takut kecewa nonton film Danur, takut ga sesuai ekspetasi ketika di buku. Mikir panjang, serius.\"\\r\\n49,negative,Nonton alien : covenant di @cinema21 mall @MciMall kaya nonton bajakan parah ada yg di SKIP mati mati jelek parah!!!! Film bagus jadi jelek \\r\\n50,negative,\"gue adalah orang yg jarang bgt nntn film indonesia..krn tiap nntn, gue slalu kecewa sama pembuatan film yg mnrt gue ga totalitas\"\\r\\n51,negative,\"Awalnya agak ragu mau nonton, karena kebanyakan kecewa waktu nonton film dari adaptasi novel\"\\r\\n52,negative,Sebenarnya gamau berekspektasi tinggi sih dari sebuah film yang diangkat dr buku. Biasanya malah kecewa :(\\r\\n53,negative,Ya sudah tidur saja kecewa film nya bukan yang diharepin hufy\\r\\n54,negative,\"Sama, ane juga kecewa ma nih film, padahal udah lama nungguin\"\\r\\n55,negative,Ka @selliyamanto udah nonton #MembabiButa? Agak kecewa nonton film tu\\r\\n56,negative,Jenuh nonton film... hambar\\r\\n57,negative,sesal di dada nonton ini film...\\r\\n58,negative,\"Netizen membatalkan nonton film \"\"Kartini\"\" gara-gara kelakuan @therealDiSastr. http://bit.ly/2o2iRPY\"\\r\\n59,negative,\"film jelek, jelas. Ga ada isinya.\"\\r\\n60,negative,Itu film makin aneh ajaa ?\\r\\n61,negative,\"Agak aneh film terbaru Conan, baru kali ini gk spektakuler. Tp openingnya hancurin gedung sih\"\\r\\n62,negative,\"@askmenfess Film yang bikin emosional, bener-bener nyedot emosi.\"\\r\\n63,negative,@pandji @InsyaAllahSah Film busuk dan artis dungu merusak bhineka\\r\\n64,negative,\"Kecewa dgn plot cerita film dengan the guys, critanya seakan lompat ga ada proses visual yg bs bikin kta mengerti mengapa amira suka sm alfi\"\\r\\n65,negative,jijik banget sama film ini. apalagi pas dia jadi kelinci gede-_- nightmare parah. https://t.co/eDoiFuS8P5\\r\\n66,negative,\"bnyak yg bilang film Mummy jelek, pdahl pengen nonton\"\\r\\n67,negative,\"Banyak yang bilang, film ini jelek. Daur ulang yang gagal. Di imdb dan ratattote aja ratingnya anjlok. Tp menurutku, aku suka sama film ini\"\\r\\n68,negative,Naruto adalah film paling bodoh ke-8 haha #faktanya #quote\\r\\n69,negative,Gw ekspektasinya film ini punya kekuatan narasi yg gw bisa jadiin motivasi. Tp kalimat inspiratifnya kurang banyak hehehe\\r\\n70,negative,Film e hambar\\r\\n71,negative,\"Film The Mummy menurut gue gak sesuai harapan, agak agak gimana gitu filmnya, weird. Dan bukan film tipe bang tom seperti biasanya -_-\"\"\"\\r\\n72,negative,yah kirain film baru wkwk penonton kecewaa\\r\\n73,negative,\"Mau bilang jelek ya bilang aja, sekalipun yg buat film itu teman sendiri. Sebut \"\"filmya bagus\"\" padahal biasa aja ngga bkin tmen lu maju sih.\"\\r\\n74,negative,\"Abis nonton King Arthur. Temen gw pesen, sblm nonton \"\"loh, itu film jelek katanya\"\" jgn selalu percaya ama pesen yg ada unsur \"\"KATANYA\"\" ..\"\\r\\n75,negative,Kadang lebih gampang nilai film jelek ketimbang nilai film bagus. Mbuh.\\r\\n76,negative,Ini film apa dah. Baru mulai udh bgni-_- jijk\\r\\n77,negative,\"Film Kartini menang pd pemain\"\" film yg kelas atas yg sudah punya nama. Tapi ceritany kurang dapat dan kurang riset menurut saya.\"\\r\\n78,negative,\"Entah aku yg kurang belajar sejarah apa gimana, tapi entah kenapa konflik yg ditampilkan di film Kartini kaya kurang memenuhi ekspektasi aja\"\\r\\n79,negative,\"Film itu kalau byk di sensor, rasanya g ada, hambar\"\\r\\n80,negative,Semoga ga busuk kyk film yg pertama\\r\\n81,negative,Flm apa ini :) arah dan tujuannya nggak jelas.. Nyesel download ! Sabar... Ini ujian ! \\xe2\\x80\\x94 menonton Hangout Film\\r\\n82,negative,Hari ini nonton film terasa; hambarr\\r\\n83,negative,Kurang mengerti sama film nya the mummy..\\r\\n84,negative,Kecewa banyak deh pkoknya.. Setidaknya mslh jam tayang bs aja ngertiin tp klu film di cut itu yg g bs dingertiin #KaulahTakdirkuMembelamu\\r\\n85,negative,\"Pernah novel favorit di filmkan & hasilnya bikin kecewa parah. Tp dari teaser #CriticalEleven saya yakin, team CE serius sama film ini\"\\r\\n86,negative,\"Intinya, kmren kecewa bgt sama @cinema21 krna mmbiarkan anak kecil nnton film dewasa & jam tayang malam (20.30 WIB) pula #CriticalEleven\"\\r\\n87,negative,Aduh! Film bagian ini jijk parah\\r\\n88,negative,Kecewa parah nnton film the guys ini. Entah kenapa makin ksini radit bkin film gapernah bener. Lucu juga nggak. Jalan cerita juga gadapet...\\r\\n89,negative,\"Agak kecewa sama film Danur, diluar ekspektasi :(\"\\r\\n90,negative,Ancur bgt itu film. Jelekk\\r\\n91,negative,Flm nya jelekk bingittsss.\\r\\n92,negative,\"Film hangout kok biasa aja sih, malah gak jelas sepertinya. Kecewaa\"\\r\\n93,negative,Ternyata ending film kamar 207 jelekk\\r\\n94,negative,Filmnya aja ngehek...... ini seriesnya ngehek juga ga\\r\\n95,negative,Kurang suka sama film #pesbukers cewe2 terllu terbuka penampilannya. Kurang baik klo di tonton anak kecil\\r\\n96,negative,Buried ini film budget termurah dengan tingkat depresi tertinggi\\r\\n97,negative,\"lalu setelah film berakhir, mikir \\'\\'ngapain nonton film yang isinya anak sma semua..\\'\\' terus agak nyesel :(\"\\r\\n98,negative,\"Gila, film Britney Ever After jelek banget parah! Nyesel nonton walau gak sampe abis.\"\\r\\n99,negative,\"Film danur nggak seperti novelnya. Harapan lebih serem ternyata cuman bikin boring. Sorry teh, tapi novelnya lebih bagus :)\"\\r\\n100,negative,ga bakal gua nonton film setan indonesia thur. mengecewakan semua. murahan cuma ngandelin sex\\r\\n101,positive,\"Keren bang flm lo @radityadika persahabatan, keluarga dan cinta kentel banget. Tokoh pemain pas semua keren bang\"\\r\\n102,positive,\"Habis nonton film Kong: Skull Island 2017. Lumayan greget filmnya, 7.5 deh.. layak buat nobar\"\\r\\n103,positive,\"Bravo untuk #filmkartini! Pemainnya bagus, sudut pandang ceritanya pun menarik. Film yang penting untuk ditonton perempuan dan juga lelaki.\"\\r\\n104,positive,Abis nonton film #kartini. Bagussss bgt! Dr awal sampe akhir haruuuu\\r\\n105,positive,#RomanHarusBertahan bangga menyukai film yg mengandung bnyak makna sperti ini.. @RompisRepost @LayarDrama_RCTI\\r\\n106,positive,\"Tiga kata untuk film #danur : cukup, dramatis dan laris.\"\\r\\n107,positive,Film kartini.. Meski aku agak telat nontonnya. film ini bagus banget...kalian sukses mendeliver cerita dan pesan.. good job guys... \\r\\n108,positive,Aku menangis di akhir film kartini #banggafilmindonesia\\r\\n109,positive,\"pokoknya kalian harus nonton film kartini, asli KEREN ! @LegacyPictures @Hanungbramantyo nonton di bioskop ya, bikinnya susah loh\"\\r\\n110,positive,\"film divergent seru-_- ah kenapa udh selesai sih-,-\"\\r\\n111,positive,\"Tentang Get Out. kalo masih ada, cepetan nonton. mending nonton ini dulu daripada Fast Furious 8 http://tz.ucweb.com/4_OaOo \"\\r\\n112,positive,Saya suka video @YouTube http://youtu.be/JxTmtJ0Fc2U?a  TRAILER FILM THE GUYS (di bioskop 13 April 2017)\\r\\n113,positive,\"Agak kebanyakan nangis2nya untuk selera saya, tapi secara keseluruhan sy kagum dengan film #Kartini.\"\\r\\n114,positive,\"thank you buat mas @awisuryadi dan tim yg uda buat Danur. film nya keren banget.buat tmn2 yg belum nonton, silakan ditonton. rekomended.\"\\r\\n115,positive,#DANUR film horor Indonesia terlaris sepanjang masa dengan 2.690.000 penonton sejak tayang 30 Maret 2017. #ManojPunjabi #DanurMovie\\r\\n116,positive,\"Bertambah lagi film Indonesia yang bakal jadi favorite. Ya, #CriticalEleven setelah baca buku & nonton. Gak kecewa. Sama2 Bagus @ikanatassa\"\\r\\n117,positive,nah ini. coba nonton filmnya deh. asik parah \\r\\n118,positive,\"Nonton Get Out bener2 gk punya ekspektasi apa2, cuma tertarik karna ini filmnya Jordan Peele, dan puas!! Keren parah, film sakit jiwa ini.\"\\r\\n119,positive,\"Kalo lagi nyari film comedy, ini recomended nih... Lucu parah! Asli! \"\\r\\n120,positive,\"Cek tread ini aja, Film gak terkenal yang ternyata asik di tonton - https://kask.us/hezsL  banyak nemu film bagus disini.\"\\r\\n121,positive,Sekarang lagi ada film yang bagus banget di bioskop. Judulnya Ziarah. Film Indonesia yang patut diapresiasi.\\r\\n122,positive,\"Critical eleven film yang bagus. Dari cerita, pemain sampai gambarnya, semuanya bagus. Puas banget dah nontonnya.\"\\r\\n123,positive,Film Ziarah sangat layak ditonton. Pengen peluk sutradaranya yang sukses mengarahkan pemeran mbah Sri - peran umur 95 thn.\\r\\n124,positive,Dan akhirnya setelah nunggu setahun mulai juga ni film #KantiniDHijabers\\r\\n125,positive,Satu satunya film indonesia yg gue tunggu bgt buat di tonton. Setelah liat filmnya lgsg gagal moveon. Pgn nnton lagiii #CriticalEleven\\r\\n126,positive,Tp rasa bangga-nya pasti akan berkali2 lipat kalo film perdananya bisa meledak di pasaran dan tercatat menjadi film terlaris.\\r\\n127,positive,\"@CenayangFilm mbah, cucumu barusan nonton Night Bus. gila, keren gini ya. tinggal dikit lagi layarnya di bandung mbah, kasian :(\"\\r\\n128,positive,\"film indonesia terbaik tahun lalu yang saya tonton. #ziarah diputar di bioskop 18 mei 2017. catat di hape, tonton di hari pertamanya.\"\\r\\n129,positive,Dari awal sampe akhir kagum banget sama film the guys raditya dkk kocak banget @cinema21 @sorayafilms #21TheGuysQuiz\\r\\n130,positive,\"Papa mama aku juga ikut nonton , mereka termasuk critical sm Film Indonesia,mereka blg film ini Bagus sekali :) terimakasi @Hanungbramantyo\"\\r\\n131,positive,\"Sumpah film danur bagus banget. yg ini nihh baru dapat film yang kenyataan bener,..seru bikin ngageting #DanurMovie\"\\r\\n132,positive,Buat yg udah nonton The Guys. Pilihan nonton di @cinema21 lainnya adalah #Unlocked film action yg seru. Cocok buat nemenin pas long weekend.\\r\\n133,positive,Nonton Film The Guys. Filmnya ngakak Abis ada sedihnya juga film dengan paket yg komplit hehehehe Sukses terus @radityadika\\r\\n134,positive,Sumpah ini film bagus bngt! Nonton berkali-kali gapernah bosen film the guys sangat menginspirasi tnx bang udah buat film ini @radityadika\\r\\n135,positive,Kalo belom nonton Kartini harus banget sih nonton! Sama film korea judulnya Obsessed tp 18+++ huehe ()\\r\\n136,positive,Nangis itu gegara nonton film kartini (1982) yang epic banget.\\r\\n137,positive,\"Dan film ZIARAH ini muatannya berlapis. Tentang hidup, tentang cinta, tentang sejarah, tentang misteri, banyak sekali yang bisa disimak.\"\\r\\n138,positive,\"90.4| Film \"\"Kartini\"\" bisa ditonton oleh semua umur. Karena film ini selain menghibur juga mendidik dan menginspirasi #FFF\"\\r\\n139,positive,\"Film sejarah, jarang sekali di negara ini. Jika membaca sejarah saja kita enggan setidaknya tontonlah filmnya @Hanungbramantyo Kartini\"\\r\\n140,positive,\"Pengerjaan film #Kartini terasa sangat sungguh2. Baik dari pemain maupun produksi. Selamat ya, Mas @Hanungbramantyo\"\\r\\n141,positive,Lapor mbah @CenayangFilm film ini keren. Worth to watch. Syukur2 bisa instrospeksi diri abis nonton.\\r\\n142,positive,\"thanks for today @andibowooo :-* film #TheBossBaby bagus banget dapet feel nya dari lucu, ketawa , amazing pokonya \"\\r\\n143,positive,Film Ziarah teramat sangat keren. Bangga. Layak dapat Oscar...\\r\\n144,positive,Barusan bgt kelar nntn @filmziarah film lokal pertama yg gue tonton dan berhasil bikin nangis @bewe_bw speechless liat aktingnya @alitalit_\\r\\n145,positive,Bahagia telah dipertemukan dengan film keren ini \\r\\n146,positive,Film Kartini bagus bangettt!!!! Wajib ditonton!\\r\\n147,positive,minggu lalu nonton #DANUR mau review seneng juga sih film horror Indonesia sudah bagus lagi @CenayangFilm @ScreenSaversID\\r\\n148,positive,\"#FilmKartini menginspirasi untuk berjuang menjunjung nilai kebenaran, bukan dominasi penguasa dan kekakuan budaya @LegacyPictures\"\\r\\n149,positive,\"10. Kalaupun mau bikin film horror, film Danur bisa jadi rujukan .. ringan tapi menakutkan \"\\r\\n150,positive,Banyak moral yg bisa dipetik dari film wonder woman. Salah satunya adalah menjaga auratmu dr cowok hidung belang ?\\r\\n151,positive,Berikut 5 film horor Indonesia berpendapatan tinggi dalam 10 tahun terakhir. Dapatkan tiket @DanurMovie di http://bit.ly/belidanur\\r\\n152,positive,Trust me. #GetOut itu tipe film paling nyaman dinikmati saat kita gak tau sama sekali filmnya mau kemana. Kalau sudah baca sana-sini ya beda\\r\\n153,positive,Nonton film #getout berbudget minim tp hasilnya sungguh tk diduga bgtu jenius smp mkir brulang apa yg sbnrnya trjadi\\r\\n154,positive,Ini salah satu film yg simple tapi hasilnya luarbiasa. Ga aneh film #GetOut dapet critical acclaim.\\r\\n155,positive,\"Dan sy bahagia krn film sebagus @filmziarah ditonton oleh mrk. Kalaupun mrk ditugasi gurunya, gurunya itu bagus #filmziarah\"\\r\\n156,positive,\"pokoknya kalian harus nonton film kartini, asli KEREN ! @LegacyPictures @Hanungbramantyo nonton di bioskop ya, bikinnya susah loh\"\\r\\n157,positive,\"Film Kartini bagus banget, sebelah saya sampe nangis, artinya film ini mampu memberikan keresahan pada penontonnya.\"\\r\\n158,positive,\"Ini film keren, banyak falsafah hidup. Salut\"\\r\\n159,positive,\"Males2an diajak liat The Guys, karena masih ngerasa duit terbang percuma pasca nonton Hangout. Eh ini beda ternyata tjoy, film ini keren.\"\\r\\n160,positive,\"Permintaan terbuka untuk warganet Indonesia. Jikalau ada waktu + kesempatan, tontonlah film \"\"Ziarah\"\". Salah satu yg terbaik yg pernah ada~ \"\\r\\n161,positive,\"Sampai hari ini, aku masih terngiang2 Film Critical Eleven, ya Tuhan. Betapa aku banyak belajar dr menonton itu. Hemmmm\"\\r\\n162,positive,habis liat Film kartini yg luar biasa...pemikiran dan gerakan kartini hrs di lanjutkan\\r\\n163,positive,#filmkartini @Hanungbramantyo sangat layak utk diapresiasi tinggi. Tak ada gading yg tak retak. Tp cuma retak samar. Film ini BAGUS!\\r\\n164,positive,\"Di Film Danur, justru yang membuat saya terkesan sosok Asih. Expresi yang datar, tanpa kata membuat penasaran,... http://fb.me/1uxomgQjS\"\\r\\n165,positive,Danur seru bangat flm nya Yg blm nonton harap nonton #l4like\\r\\n166,positive,Film-film tersebut juga cocok lho ditonton bareng anak Anda. Yuk mulai nonton lagi film berkualitas dari Indonesia #BTInd\\r\\n167,positive,\"Gue udah nonton bang, sumpah pecah banget nih film karena berhasil bikin mewek nontonnya ? https://t.co/e9UbwUtbQJ\"\\r\\n168,positive,nih film komedi lucu bangt bahasa jawa https://t.co/46I52na21l https://t.co/TopkrZd0DZ\\r\\n169,positive,Awalnya sih sempet khawatir setiap liat film adaptasi dr novel takut gak sesuai ekspektasi tp #CriticalEleven malah bikin speechless.\\r\\n170,positive,Salah satu film yg gak pernah bikin bosen ditonton berapa kali pun: The Intern. What a lovely movie. @CenayangFilm\\r\\n171,positive,\"Gk nysel aku bg, uda ntn vlog mu yang the guys dri awal smpe akhir, dan akhrnya terbayarkan sama film mu bang kern kli @radityadika seriusan\"\\r\\n172,positive,Tadi abis nonton @GetOutMovie. Gokil sih premisnya. Keren lah itu film.\\r\\n173,positive,@ernestprakasa Slamat koh ernes atas kemenangan film cek toko sebelahnya Kita kuat karna kita beragam bukan seragam\\r\\n174,positive,\"ini film keren banget bang Kekeluargaannya, cintanya, persahabatannya, komedinya dpt banget sumpah. Jadi makin cinta sama alfi. @radityadika\"\\r\\n175,positive,Dan tiap scene Reza-Adinia ini selalu gold moment #CriticalEleven. Ini berdua emg dah ditakdirkan jadi pasangan plg cocok di film saat ini.\\r\\n176,positive,\"Film yang keren, pemainnya menggembirakan meski banyak penonton menangis. #kartini\"\\r\\n177,positive,\"RT @GreatBos: Jarang nonton movie Indonesia Tapi. Yang judulnya Syahadat Cinta, bagus Pemirsa, Recommended .. Jalan ceritanya SERU! .. Hoo\\xe2\\x80\\xa6\"\\r\\n178,positive,ASTAGAH! FILM FAVORIT KELUAR LAGI LANJUTANNYA. \\r\\n179,positive,\"Masih belun moveon dari #CriticalEleven dan ini bikin saya belajar satu hal. Buku yg diadaptasi ke film, gak bisa kita samakan kualitasnya\"\\r\\n180,positive,\"Sudah nonton Critical Eleven. Menyenangkan kok, masuk kategori film Indonesia yang wajib tonton lah.\"\\r\\n181,positive,nah ini. coba nonton filmnya deh. asik parah \\r\\n182,positive,@unaazizah @yanskii Film keren\\r\\n183,positive,Lebih suka film yang bentar tapi menarik #DhikeFact\\r\\n184,positive,ga sabar nunggu Bluray nya. pasti banyak special feature yang keren. lebih lucu kalo ada bloopernya\\r\\n185,positive,\"Film The Guys wajib ditonton bagi kamu yang sayang orang tua, sahabat yang baik, creatif dan cinta kebebasan. Kereen bgt kak @radityadika\"\\r\\n186,positive,\"Film The guys nya keren abiss bang @radityadika . Lucu dapet, romance nya dapet, dan sedih nya juga dapet.\"\\r\\n187,positive,\"41 Vlog dan nunggu 22 hari setelah tanggal rilis baru nonton, kece banget, cerita yang tak tertebak sama sekali. Film THE GUYS @radityadika\"\\r\\n188,positive,Kmrn nonton film THE GUYS di situ bener2 ngerasain bgt bahwa sahabat lebih dari segala2\\'\\'y knapa bang kalau bkn film sllu keren @radityadika\\r\\n189,positive,Kartini... pemamarannya sangat sederhana dan apa adanya yang justru membuat film ini sangat enak untuk dinikmati @Hanungbramantyo\\r\\n190,positive,Abis ntn film Kartini. Bnr2 menginspirasi dan makin membuka pikiran.\\r\\n191,positive,\"baru nonton Kartini, salah satu film nasional yg sangat recommended untuk ditonton. saya nangis, campur aduk rasanya :\\'\\')\"\\r\\n192,positive,Film Kartini *sangat niat banget lihat film ini dan keren sekali dimana banyak scene2 yg sy harus menitikkan air mata #filmkartini #kartini \\r\\n193,positive,KARTINI adalah salah satu film Indonesia bertema sejarah terbaik yg pernah dibuat. Digarap dgn serius dan tema msh relevan dgn kondisi skrg.\\r\\n194,positive,harusnya memang begini... Film kartini memang harus di tonton generasi muda http://fb.me/6tQqDGGLJ \\r\\n195,positive,Menurutku danur bagus dan cukup bangga dengan film horor hasil karya bangsa ini\\r\\n196,positive,Fargo juga adaptasi dari film yang cukup berhasil. Season 1-nya the best! https://t.co/tkEEK3Evs9\\r\\n197,positive,637.000 waw ini sangat keren flm horor dng jumlah penonton segini dlm waktu 4 hari @prillybie @danurmovie\\r\\n198,positive,@filmziarah film yang tenang dan menghanyutkan. Salut dengan Mbah Ponco yg bisa membawakan karakter Mbah Sri dengan sangat baik. #FilmZiarah\\r\\n199,positive,Film yg amat menarik. Kisah cinta & kesetiaan yg disajikan secara tidak biasa. Bikin kgn nenek. Recomended movie @filmziarah #meiberziarah\\r\\n200,positive,\"Nntn @filmziarah , film bagus, ada kali 5 menit penonton gak beranjak tetep ngliatin layar pdhl film dah selesai, msh spicles sm endingnya\"'}"
            ]
          },
          "execution_count": 23,
          "metadata": {},
          "output_type": "execute_result"
        }
      ],
      "source": [
        "from google.colab import files\n",
        "files.upload()"
      ]
    },
    {
      "cell_type": "markdown",
      "metadata": {
        "id": "QKecwc67U1q4"
      },
      "source": [
        "# Import library"
      ]
    },
    {
      "cell_type": "code",
      "execution_count": 1,
      "metadata": {
        "colab": {
          "base_uri": "https://localhost:8080/",
          "height": 455
        },
        "id": "dUaX0sNXSVXa",
        "outputId": "4481eb52-ac68-478f-bb0e-3cdabfa68dd5"
      },
      "outputs": [
        {
          "data": {
            "text/html": [
              "<div>\n",
              "<style scoped>\n",
              "    .dataframe tbody tr th:only-of-type {\n",
              "        vertical-align: middle;\n",
              "    }\n",
              "\n",
              "    .dataframe tbody tr th {\n",
              "        vertical-align: top;\n",
              "    }\n",
              "\n",
              "    .dataframe thead th {\n",
              "        text-align: right;\n",
              "    }\n",
              "</style>\n",
              "<table border=\"1\" class=\"dataframe\">\n",
              "  <thead>\n",
              "    <tr style=\"text-align: right;\">\n",
              "      <th></th>\n",
              "      <th>Sentiment</th>\n",
              "      <th>Text Tweet</th>\n",
              "    </tr>\n",
              "    <tr>\n",
              "      <th>Id</th>\n",
              "      <th></th>\n",
              "      <th></th>\n",
              "    </tr>\n",
              "  </thead>\n",
              "  <tbody>\n",
              "    <tr>\n",
              "      <th>1</th>\n",
              "      <td>negative</td>\n",
              "      <td>Jelek filmnya... apalagi si ernest gak mutu bg...</td>\n",
              "    </tr>\n",
              "    <tr>\n",
              "      <th>2</th>\n",
              "      <td>negative</td>\n",
              "      <td>Film king Arthur ini film paling jelek dari se...</td>\n",
              "    </tr>\n",
              "    <tr>\n",
              "      <th>3</th>\n",
              "      <td>negative</td>\n",
              "      <td>@beexkuanlin Sepanjang film gwa berkata kasar ...</td>\n",
              "    </tr>\n",
              "    <tr>\n",
              "      <th>4</th>\n",
              "      <td>negative</td>\n",
              "      <td>Ane ga suka fast and furious..menurutku kok je...</td>\n",
              "    </tr>\n",
              "    <tr>\n",
              "      <th>5</th>\n",
              "      <td>negative</td>\n",
              "      <td>@baekhyun36 kan gua ga tau film nya, lu bilang...</td>\n",
              "    </tr>\n",
              "    <tr>\n",
              "      <th>...</th>\n",
              "      <td>...</td>\n",
              "      <td>...</td>\n",
              "    </tr>\n",
              "    <tr>\n",
              "      <th>196</th>\n",
              "      <td>positive</td>\n",
              "      <td>Fargo juga adaptasi dari film yang cukup berha...</td>\n",
              "    </tr>\n",
              "    <tr>\n",
              "      <th>197</th>\n",
              "      <td>positive</td>\n",
              "      <td>637.000 waw ini sangat keren flm horor dng jum...</td>\n",
              "    </tr>\n",
              "    <tr>\n",
              "      <th>198</th>\n",
              "      <td>positive</td>\n",
              "      <td>@filmziarah film yang tenang dan menghanyutkan...</td>\n",
              "    </tr>\n",
              "    <tr>\n",
              "      <th>199</th>\n",
              "      <td>positive</td>\n",
              "      <td>Film yg amat menarik. Kisah cinta &amp; kesetiaan ...</td>\n",
              "    </tr>\n",
              "    <tr>\n",
              "      <th>200</th>\n",
              "      <td>positive</td>\n",
              "      <td>Nntn @filmziarah , film bagus, ada kali 5 meni...</td>\n",
              "    </tr>\n",
              "  </tbody>\n",
              "</table>\n",
              "<p>200 rows × 2 columns</p>\n",
              "</div>"
            ],
            "text/plain": [
              "    Sentiment                                         Text Tweet\n",
              "Id                                                              \n",
              "1    negative  Jelek filmnya... apalagi si ernest gak mutu bg...\n",
              "2    negative  Film king Arthur ini film paling jelek dari se...\n",
              "3    negative  @beexkuanlin Sepanjang film gwa berkata kasar ...\n",
              "4    negative  Ane ga suka fast and furious..menurutku kok je...\n",
              "5    negative  @baekhyun36 kan gua ga tau film nya, lu bilang...\n",
              "..        ...                                                ...\n",
              "196  positive  Fargo juga adaptasi dari film yang cukup berha...\n",
              "197  positive  637.000 waw ini sangat keren flm horor dng jum...\n",
              "198  positive  @filmziarah film yang tenang dan menghanyutkan...\n",
              "199  positive  Film yg amat menarik. Kisah cinta & kesetiaan ...\n",
              "200  positive  Nntn @filmziarah , film bagus, ada kali 5 meni...\n",
              "\n",
              "[200 rows x 2 columns]"
            ]
          },
          "execution_count": 1,
          "metadata": {},
          "output_type": "execute_result"
        }
      ],
      "source": [
        "import pandas as pd \n",
        "import numpy as np \n",
        "\n",
        "data = pd.read_csv('dataset_tweet_sentiment_opini_film.csv', index_col = 0)\n",
        "data "
      ]
    },
    {
      "cell_type": "code",
      "execution_count": 2,
      "metadata": {
        "colab": {
          "base_uri": "https://localhost:8080/"
        },
        "id": "1afaYmozUpf-",
        "outputId": "72db6dd7-5ec1-4890-8507-a2f58c9f173f"
      },
      "outputs": [
        {
          "name": "stdout",
          "output_type": "stream",
          "text": [
            "<class 'pandas.core.frame.DataFrame'>\n",
            "Int64Index: 200 entries, 1 to 200\n",
            "Data columns (total 2 columns):\n",
            " #   Column      Non-Null Count  Dtype \n",
            "---  ------      --------------  ----- \n",
            " 0   Sentiment   200 non-null    object\n",
            " 1   Text Tweet  200 non-null    object\n",
            "dtypes: object(2)\n",
            "memory usage: 4.7+ KB\n"
          ]
        }
      ],
      "source": [
        "data.info() # melihat informasi dari dataset "
      ]
    },
    {
      "cell_type": "code",
      "execution_count": 3,
      "metadata": {
        "colab": {
          "base_uri": "https://localhost:8080/"
        },
        "id": "e_y-YYxxU9b8",
        "outputId": "7fdf1113-12b8-4a9e-b8a2-cab50aeeeb8b"
      },
      "outputs": [
        {
          "data": {
            "text/plain": [
              "(200, 2)"
            ]
          },
          "execution_count": 3,
          "metadata": {},
          "output_type": "execute_result"
        }
      ],
      "source": [
        "data.shape # mengetahui panjang dimensi dari data"
      ]
    },
    {
      "cell_type": "code",
      "execution_count": 4,
      "metadata": {
        "colab": {
          "base_uri": "https://localhost:8080/",
          "height": 175
        },
        "id": "uZ-7x8csU-W5",
        "outputId": "fc994655-d5f9-4685-8a1a-40a7bc3683c9"
      },
      "outputs": [
        {
          "data": {
            "text/html": [
              "<div>\n",
              "<style scoped>\n",
              "    .dataframe tbody tr th:only-of-type {\n",
              "        vertical-align: middle;\n",
              "    }\n",
              "\n",
              "    .dataframe tbody tr th {\n",
              "        vertical-align: top;\n",
              "    }\n",
              "\n",
              "    .dataframe thead th {\n",
              "        text-align: right;\n",
              "    }\n",
              "</style>\n",
              "<table border=\"1\" class=\"dataframe\">\n",
              "  <thead>\n",
              "    <tr style=\"text-align: right;\">\n",
              "      <th></th>\n",
              "      <th>Sentiment</th>\n",
              "      <th>Text Tweet</th>\n",
              "    </tr>\n",
              "  </thead>\n",
              "  <tbody>\n",
              "    <tr>\n",
              "      <th>count</th>\n",
              "      <td>200</td>\n",
              "      <td>200</td>\n",
              "    </tr>\n",
              "    <tr>\n",
              "      <th>unique</th>\n",
              "      <td>2</td>\n",
              "      <td>198</td>\n",
              "    </tr>\n",
              "    <tr>\n",
              "      <th>top</th>\n",
              "      <td>negative</td>\n",
              "      <td>nah ini. coba nonton filmnya deh. asik parah</td>\n",
              "    </tr>\n",
              "    <tr>\n",
              "      <th>freq</th>\n",
              "      <td>100</td>\n",
              "      <td>2</td>\n",
              "    </tr>\n",
              "  </tbody>\n",
              "</table>\n",
              "</div>"
            ],
            "text/plain": [
              "       Sentiment                                     Text Tweet\n",
              "count        200                                            200\n",
              "unique         2                                            198\n",
              "top     negative  nah ini. coba nonton filmnya deh. asik parah \n",
              "freq         100                                              2"
            ]
          },
          "execution_count": 4,
          "metadata": {},
          "output_type": "execute_result"
        }
      ],
      "source": [
        "data.describe() # deskripsi statistik pada data"
      ]
    },
    {
      "cell_type": "code",
      "execution_count": 5,
      "metadata": {
        "colab": {
          "base_uri": "https://localhost:8080/"
        },
        "id": "vuErxJzfU_bu",
        "outputId": "87b95a7f-4e24-4044-af40-945d07a0481a",
        "scrolled": true
      },
      "outputs": [
        {
          "data": {
            "text/plain": [
              "Sentiment     0\n",
              "Text Tweet    0\n",
              "dtype: int64"
            ]
          },
          "execution_count": 5,
          "metadata": {},
          "output_type": "execute_result"
        }
      ],
      "source": [
        "data.isnull().sum() # mengecek missing value pada data"
      ]
    },
    {
      "cell_type": "markdown",
      "metadata": {
        "id": "qbcStI4goNHb"
      },
      "source": [
        "# Data transformation"
      ]
    },
    {
      "cell_type": "code",
      "execution_count": 6,
      "metadata": {
        "id": "IGooYyfuWxLE"
      },
      "outputs": [],
      "source": [
        "x = data['Text Tweet']\n",
        "y = data['Sentiment']"
      ]
    },
    {
      "cell_type": "code",
      "execution_count": 7,
      "metadata": {
        "id": "hxIHpVZPoNHc"
      },
      "outputs": [],
      "source": [
        "from tokenizer_input import CustomTokenizerExample"
      ]
    },
    {
      "cell_type": "code",
      "execution_count": 8,
      "metadata": {
        "colab": {
          "base_uri": "https://localhost:8080/"
        },
        "id": "WqNusH6yoz0R",
        "outputId": "5a893ebd-0c0a-42c2-cb1a-fe9a0aa573ac"
      },
      "outputs": [
        {
          "data": {
            "text/plain": [
              "['hari', 'ini', 'adalah', 'hari', 'yang', 'cerah']"
            ]
          },
          "execution_count": 8,
          "metadata": {},
          "output_type": "execute_result"
        }
      ],
      "source": [
        "token = CustomTokenizerExample()\n",
        "token.text_data_cleaning(\"hari ini adalah hari yang cerah\")"
      ]
    },
    {
      "cell_type": "code",
      "execution_count": 9,
      "metadata": {
        "id": "4beUXckkjOJ6"
      },
      "outputs": [],
      "source": [
        "from sklearn.feature_extraction.text import TfidfVectorizer\n",
        "\n",
        "tfidf = TfidfVectorizer(tokenizer=token.text_data_cleaning)\n"
      ]
    },
    {
      "cell_type": "code",
      "execution_count": 10,
      "metadata": {
        "id": "G3CA4jpYqWK9"
      },
      "outputs": [],
      "source": [
        "from sklearn.model_selection import train_test_split\n",
        "\n",
        "x_train, x_test, y_train, y_test = train_test_split(x, y, test_size=0.2, stratify=data.Sentiment, random_state=0)"
      ]
    },
    {
      "cell_type": "code",
      "execution_count": 11,
      "metadata": {
        "colab": {
          "base_uri": "https://localhost:8080/"
        },
        "id": "0lJbt4ImnGoZ",
        "outputId": "9dbab1b5-acb3-4180-cccb-23fa71febad9"
      },
      "outputs": [
        {
          "data": {
            "text/plain": [
              "((160,), (40,))"
            ]
          },
          "execution_count": 11,
          "metadata": {},
          "output_type": "execute_result"
        }
      ],
      "source": [
        "x_train.shape, x_test.shape"
      ]
    },
    {
      "cell_type": "code",
      "execution_count": 12,
      "metadata": {
        "id": "IK1Oq-XW3wK5"
      },
      "outputs": [],
      "source": [
        "from sklearn.svm import LinearSVC\n",
        "from sklearn.pipeline import Pipeline"
      ]
    },
    {
      "cell_type": "code",
      "execution_count": 13,
      "metadata": {
        "id": "jFL6FSY2zdeJ"
      },
      "outputs": [],
      "source": [
        "clasifer = LinearSVC()\n",
        "pipeline = Pipeline([('tdidf', tfidf), ('clf', clasifer)])"
      ]
    },
    {
      "cell_type": "code",
      "execution_count": 14,
      "metadata": {
        "colab": {
          "base_uri": "https://localhost:8080/"
        },
        "id": "niDfcwWj471t",
        "outputId": "6a649c0e-baa3-4f9c-c1aa-de6365c15724"
      },
      "outputs": [
        {
          "data": {
            "text/plain": [
              "Pipeline(steps=[('tdidf',\n",
              "                 TfidfVectorizer(tokenizer=<bound method CustomTokenizerExample.text_data_cleaning of <tokenizer_input.CustomTokenizerExample object at 0x0000020261DC2B80>>)),\n",
              "                ('clf', LinearSVC())])"
            ]
          },
          "execution_count": 14,
          "metadata": {},
          "output_type": "execute_result"
        }
      ],
      "source": [
        "pipeline.fit(x_train, y_train)"
      ]
    },
    {
      "cell_type": "markdown",
      "metadata": {
        "id": "ZI954hd_pYxe"
      },
      "source": [
        "# Cek Modeling"
      ]
    },
    {
      "cell_type": "code",
      "execution_count": 15,
      "metadata": {
        "id": "U4RZXyTE1FdV"
      },
      "outputs": [],
      "source": [
        "y_pred = pipeline.predict(x_test)"
      ]
    },
    {
      "cell_type": "code",
      "execution_count": 16,
      "metadata": {
        "colab": {
          "base_uri": "https://localhost:8080/"
        },
        "id": "Dwr7ClJzpjlz",
        "outputId": "a1aadd5f-3f71-4552-8ce1-b4d0c391dd1d"
      },
      "outputs": [
        {
          "data": {
            "text/plain": [
              "array([[16,  4],\n",
              "       [ 3, 17]], dtype=int64)"
            ]
          },
          "execution_count": 16,
          "metadata": {},
          "output_type": "execute_result"
        }
      ],
      "source": [
        "from sklearn.metrics import accuracy_score, classification_report, confusion_matrix\n",
        "\n",
        "confusion_matrix(y_test, y_pred)"
      ]
    },
    {
      "cell_type": "code",
      "execution_count": 17,
      "metadata": {
        "colab": {
          "base_uri": "https://localhost:8080/"
        },
        "id": "A6e72klTpv54",
        "outputId": "d912e7af-116f-4f09-93f9-838070a60a57"
      },
      "outputs": [
        {
          "name": "stdout",
          "output_type": "stream",
          "text": [
            "              precision    recall  f1-score   support\n",
            "\n",
            "    negative       0.84      0.80      0.82        20\n",
            "    positive       0.81      0.85      0.83        20\n",
            "\n",
            "    accuracy                           0.82        40\n",
            "   macro avg       0.83      0.82      0.82        40\n",
            "weighted avg       0.83      0.82      0.82        40\n",
            "\n"
          ]
        }
      ],
      "source": [
        "print(classification_report(y_test, y_pred))"
      ]
    },
    {
      "cell_type": "markdown",
      "metadata": {
        "id": "ww63fu94qhAO"
      },
      "source": [
        "# Model Serialization"
      ]
    },
    {
      "cell_type": "code",
      "execution_count": 18,
      "metadata": {
        "colab": {
          "base_uri": "https://localhost:8080/"
        },
        "id": "4npv3b_5qkkE",
        "outputId": "e2f7c49f-386d-4b8e-e96d-44062b3b244c"
      },
      "outputs": [
        {
          "data": {
            "text/plain": [
              "['sentimen-opini-film.pkl']"
            ]
          },
          "execution_count": 18,
          "metadata": {},
          "output_type": "execute_result"
        }
      ],
      "source": [
        "import joblib \n",
        "joblib.dump(pipeline, 'sentimen-opini-film.pkl')\n",
        "j"
      ]
    },
    {
      "cell_type": "markdown",
      "metadata": {
        "id": "hm6BrVFqq8P6"
      },
      "source": [
        "# Predict sentimen using model"
      ]
    },
    {
      "cell_type": "code",
      "execution_count": 19,
      "metadata": {
        "colab": {
          "base_uri": "https://localhost:8080/"
        },
        "id": "Hpt6kqWaq3Ft",
        "outputId": "aa32028b-b43a-4c24-e8cd-75cdfdd70e59"
      },
      "outputs": [
        {
          "name": "stdout",
          "output_type": "stream",
          "text": [
            "Result : review positif\n"
          ]
        }
      ],
      "source": [
        "prediction = pipeline.predict(['film ini bagus'])\n",
        "if prediction =='positive':\n",
        "    print('Result : review positif')\n",
        "else: \n",
        "    print('Result : review negatif')     "
      ]
    },
    {
      "cell_type": "code",
      "execution_count": 20,
      "metadata": {
        "colab": {
          "base_uri": "https://localhost:8080/"
        },
        "id": "NL7EmyJerZUh",
        "outputId": "8d996b93-f8d2-4701-bf6d-4b82d994d73f"
      },
      "outputs": [
        {
          "name": "stdout",
          "output_type": "stream",
          "text": [
            "Result : Hasil review negatif\n",
            "Result : Hasil review positif\n",
            "sampai jumpa nanti\n"
          ]
        }
      ],
      "source": [
        "new_review = []\n",
        "pred_sentiment = []\n",
        "\n",
        "while True:\n",
        "    review = input('silahkan masukan review pada film : ')\n",
        "    if review == 'skip': \n",
        "        print('sampai jumpa nanti') \n",
        "        break \n",
        "    else: \n",
        "        prediction = pipeline.predict([review])\n",
        "\n",
        "        if prediction == 'positive': \n",
        "            result = 'Positif'\n",
        "            print('Result : Hasil review positif')\n",
        "        else : \n",
        "            result = 'Negatif'\n",
        "            print('Result : Hasil review negatif')\n",
        "    \n",
        "    new_review.append(review)\n",
        "    pred_sentiment.append(result)"
      ]
    },
    {
      "cell_type": "code",
      "execution_count": 21,
      "metadata": {
        "colab": {
          "base_uri": "https://localhost:8080/",
          "height": 238
        },
        "id": "vOYDZt4ksOVf",
        "outputId": "38f01592-7e77-49b7-ff97-c137816c4dba"
      },
      "outputs": [
        {
          "data": {
            "text/html": [
              "<div>\n",
              "<style scoped>\n",
              "    .dataframe tbody tr th:only-of-type {\n",
              "        vertical-align: middle;\n",
              "    }\n",
              "\n",
              "    .dataframe tbody tr th {\n",
              "        vertical-align: top;\n",
              "    }\n",
              "\n",
              "    .dataframe thead th {\n",
              "        text-align: right;\n",
              "    }\n",
              "</style>\n",
              "<table border=\"1\" class=\"dataframe\">\n",
              "  <thead>\n",
              "    <tr style=\"text-align: right;\">\n",
              "      <th></th>\n",
              "      <th>New Review</th>\n",
              "      <th>Sentiment</th>\n",
              "    </tr>\n",
              "  </thead>\n",
              "  <tbody>\n",
              "    <tr>\n",
              "      <th>0</th>\n",
              "      <td>ini jelek</td>\n",
              "      <td>Negatif</td>\n",
              "    </tr>\n",
              "    <tr>\n",
              "      <th>1</th>\n",
              "      <td>ini bagus</td>\n",
              "      <td>Positif</td>\n",
              "    </tr>\n",
              "  </tbody>\n",
              "</table>\n",
              "</div>"
            ],
            "text/plain": [
              "  New Review Sentiment\n",
              "0  ini jelek   Negatif\n",
              "1  ini bagus   Positif"
            ]
          },
          "execution_count": 21,
          "metadata": {},
          "output_type": "execute_result"
        }
      ],
      "source": [
        "result_summary = pd.DataFrame({\n",
        "    'New Review' : new_review, \n",
        "    'Sentiment' : pred_sentiment\n",
        "})\n",
        "\n",
        "result_summary.to_csv('Predict_sentiment.csv', sep = '\\t', encoding = 'UTF-8', index = False)\n",
        "result_summary"
      ]
    },
    {
      "cell_type": "code",
      "execution_count": null,
      "metadata": {},
      "outputs": [],
      "source": []
    }
  ],
  "metadata": {
    "colab": {
      "collapsed_sections": [
        "ZI954hd_pYxe"
      ],
      "provenance": [],
      "toc_visible": true
    },
    "kernelspec": {
      "display_name": "Python 3 (ipykernel)",
      "language": "python",
      "name": "python3"
    },
    "language_info": {
      "codemirror_mode": {
        "name": "ipython",
        "version": 3
      },
      "file_extension": ".py",
      "mimetype": "text/x-python",
      "name": "python",
      "nbconvert_exporter": "python",
      "pygments_lexer": "ipython3",
      "version": "3.9.12"
    },
    "vscode": {
      "interpreter": {
        "hash": "4d574123c16507aef3d1fd44b23d70ed8199122a9597986bba00e8c2ecaa96ba"
      }
    }
  },
  "nbformat": 4,
  "nbformat_minor": 0
}
